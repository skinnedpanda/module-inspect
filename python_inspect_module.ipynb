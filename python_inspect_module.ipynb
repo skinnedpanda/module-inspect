{
 "cells": [
  {
   "cell_type": "code",
   "execution_count": 1,
   "metadata": {},
   "outputs": [],
   "source": [
    "import inspect"
   ]
  },
  {
   "cell_type": "code",
   "execution_count": 2,
   "metadata": {},
   "outputs": [],
   "source": [
    "s = 'This is a string which is immutable and can be iterated over.'"
   ]
  },
  {
   "cell_type": "code",
   "execution_count": 3,
   "metadata": {},
   "outputs": [
    {
     "data": {
      "text/plain": [
       "[('__add__', <method-wrapper '__add__' of str object at 0x000001AC9036EB20>),\n",
       " ('__class__', str),\n",
       " ('__contains__',\n",
       "  <method-wrapper '__contains__' of str object at 0x000001AC9036EB20>),\n",
       " ('__delattr__',\n",
       "  <method-wrapper '__delattr__' of str object at 0x000001AC9036EB20>),\n",
       " ('__dir__', <function str.__dir__>),\n",
       " ('__doc__',\n",
       "  \"str(object='') -> str\\nstr(bytes_or_buffer[, encoding[, errors]]) -> str\\n\\nCreate a new string object from the given object. If encoding or\\nerrors is specified, then the object must expose a data buffer\\nthat will be decoded using the given encoding and error handler.\\nOtherwise, returns the result of object.__str__() (if defined)\\nor repr(object).\\nencoding defaults to sys.getdefaultencoding().\\nerrors defaults to 'strict'.\"),\n",
       " ('__eq__', <method-wrapper '__eq__' of str object at 0x000001AC9036EB20>),\n",
       " ('__format__', <function str.__format__>),\n",
       " ('__ge__', <method-wrapper '__ge__' of str object at 0x000001AC9036EB20>),\n",
       " ('__getattribute__',\n",
       "  <method-wrapper '__getattribute__' of str object at 0x000001AC9036EB20>),\n",
       " ('__getitem__',\n",
       "  <method-wrapper '__getitem__' of str object at 0x000001AC9036EB20>),\n",
       " ('__getnewargs__', <function str.__getnewargs__>),\n",
       " ('__gt__', <method-wrapper '__gt__' of str object at 0x000001AC9036EB20>),\n",
       " ('__hash__', <method-wrapper '__hash__' of str object at 0x000001AC9036EB20>),\n",
       " ('__init__', <method-wrapper '__init__' of str object at 0x000001AC9036EB20>),\n",
       " ('__init_subclass__', <function str.__init_subclass__>),\n",
       " ('__iter__', <method-wrapper '__iter__' of str object at 0x000001AC9036EB20>),\n",
       " ('__le__', <method-wrapper '__le__' of str object at 0x000001AC9036EB20>),\n",
       " ('__len__', <method-wrapper '__len__' of str object at 0x000001AC9036EB20>),\n",
       " ('__lt__', <method-wrapper '__lt__' of str object at 0x000001AC9036EB20>),\n",
       " ('__mod__', <method-wrapper '__mod__' of str object at 0x000001AC9036EB20>),\n",
       " ('__mul__', <method-wrapper '__mul__' of str object at 0x000001AC9036EB20>),\n",
       " ('__ne__', <method-wrapper '__ne__' of str object at 0x000001AC9036EB20>),\n",
       " ('__new__', <function str.__new__>),\n",
       " ('__reduce__', <function str.__reduce__>),\n",
       " ('__reduce_ex__', <function str.__reduce_ex__>),\n",
       " ('__repr__', <method-wrapper '__repr__' of str object at 0x000001AC9036EB20>),\n",
       " ('__rmod__', <method-wrapper '__rmod__' of str object at 0x000001AC9036EB20>),\n",
       " ('__rmul__', <method-wrapper '__rmul__' of str object at 0x000001AC9036EB20>),\n",
       " ('__setattr__',\n",
       "  <method-wrapper '__setattr__' of str object at 0x000001AC9036EB20>),\n",
       " ('__sizeof__', <function str.__sizeof__>),\n",
       " ('__str__', <method-wrapper '__str__' of str object at 0x000001AC9036EB20>),\n",
       " ('__subclasshook__', <function str.__subclasshook__>),\n",
       " ('capitalize', <function str.capitalize>),\n",
       " ('casefold', <function str.casefold>),\n",
       " ('center', <function str.center>),\n",
       " ('count', <function str.count>),\n",
       " ('encode', <function str.encode>),\n",
       " ('endswith', <function str.endswith>),\n",
       " ('expandtabs', <function str.expandtabs>),\n",
       " ('find', <function str.find>),\n",
       " ('format', <function str.format>),\n",
       " ('format_map', <function str.format_map>),\n",
       " ('index', <function str.index>),\n",
       " ('isalnum', <function str.isalnum>),\n",
       " ('isalpha', <function str.isalpha>),\n",
       " ('isdecimal', <function str.isdecimal>),\n",
       " ('isdigit', <function str.isdigit>),\n",
       " ('isidentifier', <function str.isidentifier>),\n",
       " ('islower', <function str.islower>),\n",
       " ('isnumeric', <function str.isnumeric>),\n",
       " ('isprintable', <function str.isprintable>),\n",
       " ('isspace', <function str.isspace>),\n",
       " ('istitle', <function str.istitle>),\n",
       " ('isupper', <function str.isupper>),\n",
       " ('join', <function str.join>),\n",
       " ('ljust', <function str.ljust>),\n",
       " ('lower', <function str.lower>),\n",
       " ('lstrip', <function str.lstrip>),\n",
       " ('maketrans', <function str.maketrans>),\n",
       " ('partition', <function str.partition>),\n",
       " ('replace', <function str.replace>),\n",
       " ('rfind', <function str.rfind>),\n",
       " ('rindex', <function str.rindex>),\n",
       " ('rjust', <function str.rjust>),\n",
       " ('rpartition', <function str.rpartition>),\n",
       " ('rsplit', <function str.rsplit>),\n",
       " ('rstrip', <function str.rstrip>),\n",
       " ('split', <function str.split>),\n",
       " ('splitlines', <function str.splitlines>),\n",
       " ('startswith', <function str.startswith>),\n",
       " ('strip', <function str.strip>),\n",
       " ('swapcase', <function str.swapcase>),\n",
       " ('title', <function str.title>),\n",
       " ('translate', <function str.translate>),\n",
       " ('upper', <function str.upper>),\n",
       " ('zfill', <function str.zfill>)]"
      ]
     },
     "execution_count": 3,
     "metadata": {},
     "output_type": "execute_result"
    }
   ],
   "source": [
    "inspect.getmembers(s)"
   ]
  },
  {
   "cell_type": "code",
   "execution_count": 4,
   "metadata": {},
   "outputs": [],
   "source": [
    "# list all members that is not a dunder (__member__)\n",
    "def not_dunders(obj):\n",
    "    for name, value in inspect.getmembers(obj):\n",
    "        if not name[:2] == '__':\n",
    "            print(name, '   ', value)"
   ]
  },
  {
   "cell_type": "code",
   "execution_count": 5,
   "metadata": {},
   "outputs": [
    {
     "name": "stdout",
     "output_type": "stream",
     "text": [
      "count     <method 'count' of 'tuple' objects>\n",
      "index     <method 'index' of 'tuple' objects>\n"
     ]
    }
   ],
   "source": [
    "not_dunders(tuple)"
   ]
  },
  {
   "cell_type": "code",
   "execution_count": 6,
   "metadata": {},
   "outputs": [
    {
     "name": "stdout",
     "output_type": "stream",
     "text": [
      "clear     <method 'clear' of 'dict' objects>\n",
      "copy     <method 'copy' of 'dict' objects>\n",
      "fromkeys     <built-in method fromkeys of type object at 0x00000000751487C0>\n",
      "get     <method 'get' of 'dict' objects>\n",
      "items     <method 'items' of 'dict' objects>\n",
      "keys     <method 'keys' of 'dict' objects>\n",
      "pop     <method 'pop' of 'dict' objects>\n",
      "popitem     <method 'popitem' of 'dict' objects>\n",
      "setdefault     <method 'setdefault' of 'dict' objects>\n",
      "update     <method 'update' of 'dict' objects>\n",
      "values     <method 'values' of 'dict' objects>\n"
     ]
    }
   ],
   "source": [
    "not_dunders(dict)"
   ]
  },
  {
   "cell_type": "code",
   "execution_count": 7,
   "metadata": {},
   "outputs": [
    {
     "name": "stdout",
     "output_type": "stream",
     "text": [
      "add     <method 'add' of 'set' objects>\n",
      "clear     <method 'clear' of 'set' objects>\n",
      "copy     <method 'copy' of 'set' objects>\n",
      "difference     <method 'difference' of 'set' objects>\n",
      "difference_update     <method 'difference_update' of 'set' objects>\n",
      "discard     <method 'discard' of 'set' objects>\n",
      "intersection     <method 'intersection' of 'set' objects>\n",
      "intersection_update     <method 'intersection_update' of 'set' objects>\n",
      "isdisjoint     <method 'isdisjoint' of 'set' objects>\n",
      "issubset     <method 'issubset' of 'set' objects>\n",
      "issuperset     <method 'issuperset' of 'set' objects>\n",
      "pop     <method 'pop' of 'set' objects>\n",
      "remove     <method 'remove' of 'set' objects>\n",
      "symmetric_difference     <method 'symmetric_difference' of 'set' objects>\n",
      "symmetric_difference_update     <method 'symmetric_difference_update' of 'set' objects>\n",
      "union     <method 'union' of 'set' objects>\n",
      "update     <method 'update' of 'set' objects>\n"
     ]
    }
   ],
   "source": [
    "not_dunders(set)"
   ]
  },
  {
   "cell_type": "code",
   "execution_count": 8,
   "metadata": {},
   "outputs": [
    {
     "name": "stdout",
     "output_type": "stream",
     "text": [
      "append     <method 'append' of 'list' objects>\n",
      "clear     <method 'clear' of 'list' objects>\n",
      "copy     <method 'copy' of 'list' objects>\n",
      "count     <method 'count' of 'list' objects>\n",
      "extend     <method 'extend' of 'list' objects>\n",
      "index     <method 'index' of 'list' objects>\n",
      "insert     <method 'insert' of 'list' objects>\n",
      "pop     <method 'pop' of 'list' objects>\n",
      "remove     <method 'remove' of 'list' objects>\n",
      "reverse     <method 'reverse' of 'list' objects>\n",
      "sort     <method 'sort' of 'list' objects>\n"
     ]
    }
   ],
   "source": [
    "not_dunders(list)"
   ]
  },
  {
   "cell_type": "code",
   "execution_count": null,
   "metadata": {},
   "outputs": [],
   "source": []
  }
 ],
 "metadata": {
  "kernelspec": {
   "display_name": "Python [conda env:Anaconda3]",
   "language": "python",
   "name": "conda-env-Anaconda3-py"
  },
  "language_info": {
   "codemirror_mode": {
    "name": "ipython",
    "version": 3
   },
   "file_extension": ".py",
   "mimetype": "text/x-python",
   "name": "python",
   "nbconvert_exporter": "python",
   "pygments_lexer": "ipython3",
   "version": "3.6.1"
  }
 },
 "nbformat": 4,
 "nbformat_minor": 2
}
